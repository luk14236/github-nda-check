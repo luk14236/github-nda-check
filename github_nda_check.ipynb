{
  "nbformat": 4,
  "nbformat_minor": 0,
  "metadata": {
    "colab": {
      "provenance": [],
      "authorship_tag": "ABX9TyNcEmIiEvGD/cuAFivGLgt6"
    },
    "kernelspec": {
      "name": "python3",
      "display_name": "Python 3"
    },
    "language_info": {
      "name": "python"
    }
  },
  "cells": [
    {
      "cell_type": "code",
      "metadata": {
        "id": "JLeiMqCuzi-S"
      },
      "source": [
        "pip install pyGithub"
      ],
      "execution_count": null,
      "outputs": []
    },
    {
      "cell_type": "code",
      "metadata": {
        "id": "TKcND3Lsz9FL"
      },
      "source": [
        "from github import Github\n",
        "from datetime import datetime\n",
        "\n",
        "import json"
      ],
      "execution_count": null,
      "outputs": []
    },
    {
      "cell_type": "code",
      "metadata": {
        "id": "J1vdmyR80MoB"
      },
      "source": [
        "git = Github('api-key')"
      ],
      "execution_count": null,
      "outputs": []
    },
    {
      "cell_type": "code",
      "metadata": {
        "id": "_JdtV7DW1zo9"
      },
      "source": [
        "dtoday = datetime.now()\n",
        "dtoday = dtoday.strftime(\"%Y%m%d_%H%M%S\")"
      ],
      "execution_count": null,
      "outputs": []
    },
    {
      "cell_type": "code",
      "metadata": {
        "id": "OMpifGm30Mv5"
      },
      "source": [
        "keyword = '\"keyword\" in:file'"
      ],
      "execution_count": null,
      "outputs": []
    },
    {
      "cell_type": "code",
      "metadata": {
        "id": "oMg-T73mkY7t"
      },
      "source": [
        "repos = git.search_code(keyword)"
      ],
      "execution_count": null,
      "outputs": []
    },
    {
      "cell_type": "code",
      "metadata": {
        "id": "78uK3nVrk-vP"
      },
      "source": [
        "finds = []\n",
        "for file in repos:\n",
        "  repo = file.repository\n",
        "  contris = repo.get_contributors()\n",
        "\n",
        "  users = []\n",
        "  for cont in contris:\n",
        "    u = {\"name\":cont.name, \"email\":cont.email, 'twitter':cont.email, 'location':cont.location, 'site':cont.site_admin, 'profile_url':cont.url}\n",
        "    users.append(u)\n",
        "\n",
        "  r = {'repo':repo.name,\n",
        "       'created_at':repo.created_at.strftime(\"%Y-%m-%d %H:%M:%S\"),\n",
        "       'description':repo.description,\n",
        "       'url':repo.url,\n",
        "       'file':file.download_url,\n",
        "       'users':users}\n",
        "  finds.append(r)\n"
      ],
      "execution_count": null,
      "outputs": []
    },
    {
      "cell_type": "code",
      "metadata": {
        "id": "6bP-4LEqlNZ6"
      },
      "source": [
        "with open('nda_check_{0}.json'.format(dtoday), 'w') as outfile:\n",
        "    json.dump(finds, outfile)"
      ],
      "execution_count": null,
      "outputs": []
    }
  ]
}